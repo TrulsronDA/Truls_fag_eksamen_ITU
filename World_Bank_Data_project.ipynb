{
 "cells": [
  {
   "cell_type": "markdown",
   "metadata": {
    "application/vnd.databricks.v1+cell": {
     "cellMetadata": {
      "byteLimit": 2048000,
      "rowLimit": 10000
     },
     "inputWidgets": {},
     "nuid": "e84b3e03-b288-4815-b829-2479764fca57",
     "showTitle": false,
     "tableResultSettingsMap": {},
     "title": ""
    }
   },
   "source": [
    "# Import"
   ]
  },
  {
   "cell_type": "code",
   "execution_count": 0,
   "metadata": {
    "application/vnd.databricks.v1+cell": {
     "cellMetadata": {
      "byteLimit": 2048000,
      "rowLimit": 10000
     },
     "inputWidgets": {},
     "nuid": "800fe42b-d533-4781-a166-93f907509e04",
     "showTitle": false,
     "tableResultSettingsMap": {},
     "title": ""
    }
   },
   "outputs": [],
   "source": [
    "import pandas as pd\n",
    "import pyspark.sql.functions as sf\n",
    "from pyspark.sql import SparkSession\n",
    "from functions import *\n",
    "from pyspark.sql.types import IntegerType"
   ]
  },
  {
   "cell_type": "markdown",
   "metadata": {
    "application/vnd.databricks.v1+cell": {
     "cellMetadata": {
      "byteLimit": 2048000,
      "rowLimit": 10000
     },
     "inputWidgets": {},
     "nuid": "0d41917b-c2ca-4ad8-9a16-1c3f905f1f2e",
     "showTitle": false,
     "tableResultSettingsMap": {},
     "title": ""
    }
   },
   "source": [
    "# Extract "
   ]
  },
  {
   "cell_type": "code",
   "execution_count": 0,
   "metadata": {
    "application/vnd.databricks.v1+cell": {
     "cellMetadata": {
      "byteLimit": 2048000,
      "rowLimit": 10000
     },
     "inputWidgets": {},
     "nuid": "1016112d-61b3-48ac-af7f-76c6688d8fa6",
     "showTitle": false,
     "tableResultSettingsMap": {},
     "title": ""
    }
   },
   "outputs": [],
   "source": [
    "# Government expenditure on education, total (% of GDP) datainnhenting \n",
    "expenditure_education_data = pd.read_csv(\n",
    "    '/Volumes/dev_truls/default/data_files/API_SE.XPD.TOTL.GD.ZS_DS2_en_csv_v2_391679.csv'\n",
    ")\n",
    "display(expenditure_education_data)"
   ]
  },
  {
   "cell_type": "code",
   "execution_count": 0,
   "metadata": {
    "application/vnd.databricks.v1+cell": {
     "cellMetadata": {
      "byteLimit": 2048000,
      "rowLimit": 10000
     },
     "inputWidgets": {},
     "nuid": "179b45b9-93cf-4203-9db6-daaed0089db0",
     "showTitle": false,
     "tableResultSettingsMap": {},
     "title": ""
    }
   },
   "outputs": [],
   "source": [
    "# Expense (% of GDP) datainnhenting\n",
    "expense_gpd_data = pd.read_csv('/Volumes/dev_truls/default/data_files/API_GC.XPN.TOTL.GD.ZS_DS2_en_csv_v2_86912.csv')\n",
    "display(expense_gpd_data)"
   ]
  },
  {
   "cell_type": "code",
   "execution_count": 0,
   "metadata": {
    "application/vnd.databricks.v1+cell": {
     "cellMetadata": {
      "byteLimit": 2048000,
      "rowLimit": 10000
     },
     "inputWidgets": {},
     "nuid": "d31d2ee2-b604-4325-a68b-cf3e6afff83d",
     "showTitle": false,
     "tableResultSettingsMap": {},
     "title": ""
    }
   },
   "outputs": [],
   "source": [
    "# GPD per capita datainnhenting\n",
    "gpd_per_capita_data = pd.read_csv('/Volumes/dev_truls/default/data_files/API_NY.GDP.PCAP.CD_DS2_en_csv_v2_394227.csv')\n",
    "display(gpd_per_capita_data)"
   ]
  },
  {
   "cell_type": "code",
   "execution_count": 0,
   "metadata": {
    "application/vnd.databricks.v1+cell": {
     "cellMetadata": {
      "byteLimit": 2048000,
      "rowLimit": 10000
     },
     "inputWidgets": {},
     "nuid": "f8a436c9-27a9-4a9d-8bcc-55a7e950932d",
     "showTitle": false,
     "tableResultSettingsMap": {},
     "title": ""
    }
   },
   "outputs": [],
   "source": [
    "# Life expectancy at birth, total (years) datainnhenting\n",
    "life_expectancy_at_birth_data = pd.read_csv('/Volumes/dev_truls/default/data_files/API_SP.DYN.LE00.IN_DS2_en_csv_v2_393864.csv')\n",
    "\n",
    "display(life_expectancy_at_birth_data)"
   ]
  },
  {
   "cell_type": "markdown",
   "metadata": {
    "application/vnd.databricks.v1+cell": {
     "cellMetadata": {
      "byteLimit": 2048000,
      "rowLimit": 10000
     },
     "inputWidgets": {},
     "nuid": "3dd4753e-3d91-4001-819a-b246fa6d3485",
     "showTitle": false,
     "tableResultSettingsMap": {},
     "title": ""
    }
   },
   "source": [
    "# Transformation"
   ]
  },
  {
   "cell_type": "code",
   "execution_count": 0,
   "metadata": {
    "application/vnd.databricks.v1+cell": {
     "cellMetadata": {
      "byteLimit": 2048000,
      "rowLimit": 10000
     },
     "inputWidgets": {},
     "nuid": "93354742-793d-4cb8-83aa-f84020ddc79e",
     "showTitle": false,
     "tableResultSettingsMap": {},
     "title": ""
    }
   },
   "outputs": [],
   "source": [
    "# Bruker melt for å endre strukturen fra wide format til long format for alle de fire indikator-dataene.\n",
    "# Dette gjør det enklere å analysere, sammenligne og slå sammen indikatorene senere i prosessen.\n",
    "expenditure_education_data = pd.melt(expenditure_education_data, id_vars=['Country Name', 'Country Code', 'Indicator Name', 'Indicator Code'], var_name='Year', value_name='Value')\n",
    "\n",
    "expense_gpd_data = pd.melt(expense_gpd_data, id_vars=['Country Name', 'Country Code', 'Indicator Name', 'Indicator Code'], var_name='Year', value_name='Value')\n",
    "\n",
    "gpd_per_capita_data = pd.melt(gpd_per_capita_data, id_vars=['Country Name', 'Country Code', 'Indicator Name', 'Indicator Code'], var_name='Year', value_name='Value')\n",
    "\n",
    "life_expectancy_at_birth_data = pd.melt(life_expectancy_at_birth_data, id_vars=['Country Name', 'Country Code', 'Indicator Name', 'Indicator Code'], var_name='Year', value_name='Value')"
   ]
  },
  {
   "cell_type": "code",
   "execution_count": 0,
   "metadata": {
    "application/vnd.databricks.v1+cell": {
     "cellMetadata": {
      "byteLimit": 2048000,
      "rowLimit": 10000
     },
     "inputWidgets": {},
     "nuid": "2212ac54-1c1a-461b-833d-1eb145dc2b3d",
     "showTitle": false,
     "tableResultSettingsMap": {},
     "title": ""
    }
   },
   "outputs": [],
   "source": [
    "# Konverter datsetettet fra pandas dataframe til spark dataframe for å kunne bruke Spark SQL og utnytte distributert databehandling.\n",
    "spark = SparkSession.builder.getOrCreate()\n",
    "expenditure_education_df = spark.createDataFrame(expenditure_education_data)\n",
    "expense_gpd_df = spark.createDataFrame(expense_gpd_data)\n",
    "gpd_per_capita_df = spark.createDataFrame(gpd_per_capita_data)\n",
    "life_expectancy_at_birth_df = spark.createDataFrame(life_expectancy_at_birth_data)"
   ]
  },
  {
   "cell_type": "code",
   "execution_count": 0,
   "metadata": {
    "application/vnd.databricks.v1+cell": {
     "cellMetadata": {
      "byteLimit": 2048000,
      "rowLimit": 10000
     },
     "inputWidgets": {},
     "nuid": "4f0088e8-ccd4-4bdd-8bbd-8f81cc6434a9",
     "showTitle": false,
     "tableResultSettingsMap": {},
     "title": ""
    }
   },
   "outputs": [],
   "source": [
    "# Bruker unionByName for å sammenstille alle 4 indikator-dataframene til en Spark dataframe for mer effektiv analysering og lagring etter melt().\n",
    "# Selv om melt gir samme kolonnenavn og struktur, sikrer unionByName at DataFramene slås sammen korrekt basert på kolonnenmavn,\n",
    "# og unnår feil dersom rekkefølgen på kolonnene skulle være ulik eller endres senere.\n",
    "# Dette gir en mer robust og fremtidssikker løsning enn vanlig union\n",
    "\n",
    "all_indicators_df = expenditure_education_df.unionByName(expense_gpd_df).unionByName(gpd_per_capita_df).unionByName(life_expectancy_at_birth_df)"
   ]
  },
  {
   "cell_type": "code",
   "execution_count": 0,
   "metadata": {
    "application/vnd.databricks.v1+cell": {
     "cellMetadata": {
      "byteLimit": 2048000,
      "rowLimit": 10000
     },
     "inputWidgets": {},
     "nuid": "82c8e854-557f-468f-90b6-4d31a2822ba5",
     "showTitle": false,
     "tableResultSettingsMap": {},
     "title": ""
    }
   },
   "outputs": [],
   "source": [
    "# Filtrerer dataene automatisk til kun å inkludere de siste 15 årene basert på inneværende år.\n",
    "# Dette reduserer antall rader ved å fjerne alle observasjoner eldre enn 15 år.\n",
    "current_year = pd.Timestamp.now().year\n",
    "all_indicators_df = all_indicators_df[all_indicators_df['Year'] >= str(current_year - 15)]"
   ]
  },
  {
   "cell_type": "code",
   "execution_count": 0,
   "metadata": {
    "application/vnd.databricks.v1+cell": {
     "cellMetadata": {
      "byteLimit": 2048000,
      "rowLimit": 10000
     },
     "inputWidgets": {},
     "nuid": "1e782070-894c-427f-a01a-db510c64c1b1",
     "showTitle": false,
     "tableResultSettingsMap": {},
     "title": ""
    }
   },
   "outputs": [],
   "source": [
    "all_indicators_df = all_indicators_df.withColumn(\n",
    "    \"Status\",\n",
    "    sf.when(sf.col(\"Value\").isNull(), \"Not reported / Not collected\").otherwise(\"Reported\")\n",
    ")"
   ]
  },
  {
   "cell_type": "code",
   "execution_count": 0,
   "metadata": {
    "application/vnd.databricks.v1+cell": {
     "cellMetadata": {
      "byteLimit": 2048000,
      "rowLimit": 10000
     },
     "inputWidgets": {},
     "nuid": "d74b8e65-db88-457c-b0af-b8e70b01dd58",
     "showTitle": false,
     "tableResultSettingsMap": {},
     "title": ""
    }
   },
   "outputs": [],
   "source": [
    "all_indicators_df = all_indicators_df.withColumnRenamed(\n",
    "'Country Name', 'Country')"
   ]
  },
  {
   "cell_type": "code",
   "execution_count": 0,
   "metadata": {
    "application/vnd.databricks.v1+cell": {
     "cellMetadata": {
      "byteLimit": 2048000,
      "rowLimit": 10000
     },
     "inputWidgets": {},
     "nuid": "2b21a337-ecab-4b5c-80e8-1fc3ab3f7b1f",
     "showTitle": false,
     "tableResultSettingsMap": {},
     "title": ""
    }
   },
   "outputs": [],
   "source": [
    "all_indicators_df = rename_columns_to_snake_case(all_indicators_df)"
   ]
  },
  {
   "cell_type": "code",
   "execution_count": 0,
   "metadata": {
    "application/vnd.databricks.v1+cell": {
     "cellMetadata": {
      "byteLimit": 2048000,
      "rowLimit": 10000
     },
     "inputWidgets": {},
     "nuid": "d5cd6a1c-d581-4243-8f3a-f5430965e4e3",
     "showTitle": false,
     "tableResultSettingsMap": {},
     "title": ""
    }
   },
   "outputs": [],
   "source": [
    "all_indicators_df = all_indicators_df.withColumn('Year', all_indicators_df['Year'].cast(IntegerType()))"
   ]
  },
  {
   "cell_type": "code",
   "execution_count": 0,
   "metadata": {
    "application/vnd.databricks.v1+cell": {
     "cellMetadata": {
      "byteLimit": 2048000,
      "rowLimit": 10000
     },
     "inputWidgets": {},
     "nuid": "3c91512b-5523-4e65-8e5b-d98067e269bb",
     "showTitle": false,
     "tableResultSettingsMap": {},
     "title": ""
    }
   },
   "outputs": [],
   "source": [
    "display(all_indicators_df)"
   ]
  },
  {
   "cell_type": "markdown",
   "metadata": {
    "application/vnd.databricks.v1+cell": {
     "cellMetadata": {
      "byteLimit": 2048000,
      "rowLimit": 10000
     },
     "inputWidgets": {},
     "nuid": "a4cf26f0-5515-4c0d-9bd4-bdabd0816fb5",
     "showTitle": false,
     "tableResultSettingsMap": {},
     "title": ""
    }
   },
   "source": [
    "# Write"
   ]
  }
 ],
 "metadata": {
  "application/vnd.databricks.v1+notebook": {
   "computePreferences": null,
   "dashboards": [],
   "environmentMetadata": {
    "base_environment": "",
    "environment_version": "2"
   },
   "inputWidgetPreferences": null,
   "language": "python",
   "notebookMetadata": {
    "pythonIndentUnit": 4
   },
   "notebookName": "World_Bank_Data_project",
   "widgets": {}
  },
  "language_info": {
   "name": "python"
  }
 },
 "nbformat": 4,
 "nbformat_minor": 0
}
