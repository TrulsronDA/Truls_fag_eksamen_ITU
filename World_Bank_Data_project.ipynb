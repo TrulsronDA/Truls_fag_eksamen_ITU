{
 "cells": [
  {
   "cell_type": "markdown",
   "metadata": {
    "application/vnd.databricks.v1+cell": {
     "cellMetadata": {
      "byteLimit": 2048000,
      "rowLimit": 10000
     },
     "inputWidgets": {},
     "nuid": "e84b3e03-b288-4815-b829-2479764fca57",
     "showTitle": false,
     "tableResultSettingsMap": {},
     "title": ""
    }
   },
   "source": [
    "# Import"
   ]
  },
  {
   "cell_type": "code",
   "execution_count": 0,
   "metadata": {
    "application/vnd.databricks.v1+cell": {
     "cellMetadata": {
      "byteLimit": 2048000,
      "rowLimit": 10000
     },
     "inputWidgets": {},
     "nuid": "800fe42b-d533-4781-a166-93f907509e04",
     "showTitle": false,
     "tableResultSettingsMap": {},
     "title": ""
    }
   },
   "outputs": [],
   "source": [
    "import pandas as pd\n",
    "import pyspark.sql.functions as sf\n",
    "from pyspark.sql import SparkSession\n",
    "from functions import *\n",
    "from pyspark.sql.types import IntegerType\n"
   ]
  },
  {
   "cell_type": "markdown",
   "metadata": {
    "application/vnd.databricks.v1+cell": {
     "cellMetadata": {
      "byteLimit": 2048000,
      "rowLimit": 10000
     },
     "inputWidgets": {},
     "nuid": "0d41917b-c2ca-4ad8-9a16-1c3f905f1f2e",
     "showTitle": false,
     "tableResultSettingsMap": {},
     "title": ""
    }
   },
   "source": [
    "# Datainnhenting\n",
    "\n",
    "### Her leses inn de fire datasett fra World Bank som skal brukes videre i analysen: \n",
    "- Offentlige utdanningsutgifter (% av BNP)\n",
    "- Offentlige utgifter totalt (% av BNP)\n",
    "- BNP per innbygger (USD)\n",
    "- Forventet levealder ved fødsel (år)\n",
    "\n",
    "Alle data er hentet som CSV-filer fra worldbank.org."
   ]
  },
  {
   "cell_type": "code",
   "execution_count": 0,
   "metadata": {
    "application/vnd.databricks.v1+cell": {
     "cellMetadata": {
      "byteLimit": 2048000,
      "rowLimit": 10000
     },
     "inputWidgets": {},
     "nuid": "1016112d-61b3-48ac-af7f-76c6688d8fa6",
     "showTitle": false,
     "tableResultSettingsMap": {},
     "title": ""
    }
   },
   "outputs": [],
   "source": [
    "#  Offentlige utdanningsutgifter (% av BNP)\n",
    "expenditure_education_data = pd.read_csv(\n",
    "    '/Volumes/dev_truls/default/data_files/API_SE.XPD.TOTL.GD.ZS_DS2_en_csv_v2_391679.csv'\n",
    ")"
   ]
  },
  {
   "cell_type": "code",
   "execution_count": 0,
   "metadata": {
    "application/vnd.databricks.v1+cell": {
     "cellMetadata": {
      "byteLimit": 2048000,
      "rowLimit": 10000
     },
     "inputWidgets": {},
     "nuid": "179b45b9-93cf-4203-9db6-daaed0089db0",
     "showTitle": false,
     "tableResultSettingsMap": {},
     "title": ""
    }
   },
   "outputs": [],
   "source": [
    "# Offentlige utgifter totalt (% av BNP)\n",
    "expense_gpd_data = pd.read_csv('/Volumes/dev_truls/default/data_files/API_GC.XPN.TOTL.GD.ZS_DS2_en_csv_v2_86912.csv')"
   ]
  },
  {
   "cell_type": "code",
   "execution_count": 0,
   "metadata": {
    "application/vnd.databricks.v1+cell": {
     "cellMetadata": {
      "byteLimit": 2048000,
      "rowLimit": 10000
     },
     "inputWidgets": {},
     "nuid": "d31d2ee2-b604-4325-a68b-cf3e6afff83d",
     "showTitle": false,
     "tableResultSettingsMap": {},
     "title": ""
    }
   },
   "outputs": [],
   "source": [
    "# BNP per innbygger (USD)\n",
    "gpd_per_capita_data = pd.read_csv('/Volumes/dev_truls/default/data_files/API_NY.GDP.PCAP.CD_DS2_en_csv_v2_394227.csv')"
   ]
  },
  {
   "cell_type": "code",
   "execution_count": 0,
   "metadata": {
    "application/vnd.databricks.v1+cell": {
     "cellMetadata": {
      "byteLimit": 2048000,
      "rowLimit": 10000
     },
     "inputWidgets": {},
     "nuid": "f8a436c9-27a9-4a9d-8bcc-55a7e950932d",
     "showTitle": false,
     "tableResultSettingsMap": {},
     "title": ""
    }
   },
   "outputs": [],
   "source": [
    "# Forventet levealder ved fødsel (år)\n",
    "life_expectancy_at_birth_data = pd.read_csv('/Volumes/dev_truls/default/data_files/API_SP.DYN.LE00.IN_DS2_en_csv_v2_393864.csv')"
   ]
  },
  {
   "cell_type": "markdown",
   "metadata": {
    "application/vnd.databricks.v1+cell": {
     "cellMetadata": {
      "byteLimit": 2048000,
      "rowLimit": 10000
     },
     "inputWidgets": {},
     "nuid": "3dd4753e-3d91-4001-819a-b246fa6d3485",
     "showTitle": false,
     "tableResultSettingsMap": {},
     "title": ""
    }
   },
   "source": [
    "# Transformasjon"
   ]
  },
  {
   "cell_type": "code",
   "execution_count": 0,
   "metadata": {
    "application/vnd.databricks.v1+cell": {
     "cellMetadata": {
      "byteLimit": 2048000,
      "rowLimit": 10000
     },
     "inputWidgets": {},
     "nuid": "93354742-793d-4cb8-83aa-f84020ddc79e",
     "showTitle": false,
     "tableResultSettingsMap": {},
     "title": ""
    }
   },
   "outputs": [],
   "source": [
    "# Bruker melt for å endre strukturen fra wide format til long format for alle de fire indikator-dataene.\n",
    "# Dette gjør det enklere å analysere, sammenligne og slå sammen indikatorene senere i prosessen.\n",
    "expenditure_education_data = pd.melt(expenditure_education_data, id_vars=['Country Name', 'Country Code', 'Indicator Name', 'Indicator Code'], var_name='Year', value_name='Value')\n",
    "\n",
    "expense_gpd_data = pd.melt(expense_gpd_data, id_vars=['Country Name', 'Country Code', 'Indicator Name', 'Indicator Code'], var_name='Year', value_name='Value')\n",
    "\n",
    "gpd_per_capita_data = pd.melt(gpd_per_capita_data, id_vars=['Country Name', 'Country Code', 'Indicator Name', 'Indicator Code'], var_name='Year', value_name='Value')\n",
    "\n",
    "life_expectancy_at_birth_data = pd.melt(life_expectancy_at_birth_data, id_vars=['Country Name', 'Country Code', 'Indicator Name', 'Indicator Code'], var_name='Year', value_name='Value')"
   ]
  },
  {
   "cell_type": "code",
   "execution_count": 0,
   "metadata": {
    "application/vnd.databricks.v1+cell": {
     "cellMetadata": {
      "byteLimit": 2048000,
      "rowLimit": 10000
     },
     "inputWidgets": {},
     "nuid": "2212ac54-1c1a-461b-833d-1eb145dc2b3d",
     "showTitle": false,
     "tableResultSettingsMap": {},
     "title": ""
    }
   },
   "outputs": [],
   "source": [
    "# Konverter datsetettet fra pandas dataframe til spark dataframe for å kunne bruke Spark SQL og utnytte distributert databehandling.\n",
    "spark = SparkSession.builder.getOrCreate()\n",
    "expenditure_education_df = spark.createDataFrame(expenditure_education_data)\n",
    "expense_gpd_df = spark.createDataFrame(expense_gpd_data)\n",
    "gpd_per_capita_df = spark.createDataFrame(gpd_per_capita_data)\n",
    "life_expectancy_at_birth_df = spark.createDataFrame(life_expectancy_at_birth_data)"
   ]
  },
  {
   "cell_type": "code",
   "execution_count": 0,
   "metadata": {
    "application/vnd.databricks.v1+cell": {
     "cellMetadata": {
      "byteLimit": 2048000,
      "rowLimit": 10000
     },
     "inputWidgets": {},
     "nuid": "4f0088e8-ccd4-4bdd-8bbd-8f81cc6434a9",
     "showTitle": false,
     "tableResultSettingsMap": {},
     "title": ""
    }
   },
   "outputs": [],
   "source": [
    "# Bruker unionByName for å sammenstille alle 4 indikator-dataframene til en Spark dataframe for mer effektiv analysering og lagring etter melt().\n",
    "# Selv om melt gir samme kolonnenavn og struktur, sikrer unionByName at DataFramene slås sammen korrekt basert på kolonnenmavn,\n",
    "# og unnår feil dersom rekkefølgen på kolonnene skulle være ulik eller endres senere.\n",
    "# Dette gir en mer robust og fremtidssikker løsning enn vanlig union\n",
    "\n",
    "all_indicators_df = expenditure_education_df.unionByName(expense_gpd_df).unionByName(gpd_per_capita_df).unionByName(life_expectancy_at_birth_df)"
   ]
  },
  {
   "cell_type": "code",
   "execution_count": 0,
   "metadata": {
    "application/vnd.databricks.v1+cell": {
     "cellMetadata": {
      "byteLimit": 2048000,
      "rowLimit": 10000
     },
     "inputWidgets": {},
     "nuid": "82c8e854-557f-468f-90b6-4d31a2822ba5",
     "showTitle": false,
     "tableResultSettingsMap": {},
     "title": ""
    }
   },
   "outputs": [],
   "source": [
    "# Filtrerer dataene automatisk til kun å inkludere de siste 15 årene basert på inneværende år.\n",
    "# Dette reduserer antall rader ved å fjerne alle observasjoner eldre enn 15 år.\n",
    "current_year = pd.Timestamp.now().year\n",
    "all_indicators_df = all_indicators_df[all_indicators_df['Year'] >= str(current_year - 15)]"
   ]
  },
  {
   "cell_type": "code",
   "execution_count": 0,
   "metadata": {
    "application/vnd.databricks.v1+cell": {
     "cellMetadata": {
      "byteLimit": 2048000,
      "rowLimit": 10000
     },
     "inputWidgets": {},
     "nuid": "1e782070-894c-427f-a01a-db510c64c1b1",
     "showTitle": false,
     "tableResultSettingsMap": {},
     "title": ""
    }
   },
   "outputs": [],
   "source": [
    "# Legger til en ny kolonne \"Status\" som angir om verdien for indikatoren er rapportert eller ikke.\n",
    "# Hvis \"Value\" er null, settes status til \"Not reported / Not collected\", ellers til \"Reported\".\n",
    "# Dette er for å skre at vi forstår hvorfor det er en null verdi i \"Value\" kolonnen.\n",
    "all_indicators_df = all_indicators_df.withColumn(\n",
    "    \"Status\",\n",
    "    sf.when(sf.col(\"Value\").isNull(), \"Not reported / Not collected\").otherwise(\"Reported\")\n",
    ")"
   ]
  },
  {
   "cell_type": "code",
   "execution_count": 0,
   "metadata": {
    "application/vnd.databricks.v1+cell": {
     "cellMetadata": {
      "byteLimit": 2048000,
      "rowLimit": 10000
     },
     "inputWidgets": {},
     "nuid": "d74b8e65-db88-457c-b0af-b8e70b01dd58",
     "showTitle": false,
     "tableResultSettingsMap": {},
     "title": ""
    }
   },
   "outputs": [],
   "source": [
    "# Gir kolonnen \"Country Name\" et enklere og mer konsist navn ved å endre det til \"Country\".\n",
    "all_indicators_df = all_indicators_df.withColumnRenamed(\n",
    "'Country Name', 'Country')"
   ]
  },
  {
   "cell_type": "code",
   "execution_count": 0,
   "metadata": {
    "application/vnd.databricks.v1+cell": {
     "cellMetadata": {
      "byteLimit": 2048000,
      "rowLimit": 10000
     },
     "inputWidgets": {},
     "nuid": "d5cd6a1c-d581-4243-8f3a-f5430965e4e3",
     "showTitle": false,
     "tableResultSettingsMap": {},
     "title": ""
    }
   },
   "outputs": [],
   "source": [
    "# Endrer datatype for kolonnen \"Year\" fra tekst (string) til heltall (integer) for å muliggjøre numeriske operasjoner og sortering.\n",
    "all_indicators_df = all_indicators_df.withColumn('Year', all_indicators_df['Year'].cast(IntegerType()))"
   ]
  },
  {
   "cell_type": "code",
   "execution_count": 0,
   "metadata": {
    "application/vnd.databricks.v1+cell": {
     "cellMetadata": {
      "byteLimit": 2048000,
      "rowLimit": 10000
     },
     "inputWidgets": {},
     "nuid": "2b21a337-ecab-4b5c-80e8-1fc3ab3f7b1f",
     "showTitle": false,
     "tableResultSettingsMap": {},
     "title": ""
    }
   },
   "outputs": [],
   "source": [
    "# Bruker rename_columns_to_snake_case funksjonen for å konverterer alle kolonnenavn i DataFrame til snake_case for å sikre konsistent og maskinvennlig navngivning.\n",
    "all_indicators_df = rename_columns_to_snake_case(all_indicators_df)"
   ]
  },
  {
   "cell_type": "code",
   "execution_count": 0,
   "metadata": {
    "application/vnd.databricks.v1+cell": {
     "cellMetadata": {
      "byteLimit": 2048000,
      "rowLimit": 10000
     },
     "inputWidgets": {},
     "nuid": "bf71c633-4ac7-4d98-9b42-df0a583c8d46",
     "showTitle": false,
     "tableResultSettingsMap": {},
     "title": ""
    }
   },
   "outputs": [],
   "source": [
    "# sorterer dataFrame etter \"country\", \"indicator_code\", og \"year\" i stigende rekkefølge.\n",
    "# Dette gir bedre oversikt, gjør datasettet mer lesbarhet, og forenkler feilsøking og kontroll av data.\n",
    "all_indicators_df = all_indicators_df.orderBy(['country', 'indicator_code', 'year'], ascending=[True, True, True])"
   ]
  },
  {
   "cell_type": "markdown",
   "metadata": {
    "application/vnd.databricks.v1+cell": {
     "cellMetadata": {
      "byteLimit": 2048000,
      "rowLimit": 10000
     },
     "inputWidgets": {},
     "nuid": "a4cf26f0-5515-4c0d-9bd4-bdabd0816fb5",
     "showTitle": false,
     "tableResultSettingsMap": {},
     "title": ""
    }
   },
   "source": [
    "# Lagring"
   ]
  },
  {
   "cell_type": "code",
   "execution_count": 0,
   "metadata": {
    "application/vnd.databricks.v1+cell": {
     "cellMetadata": {
      "byteLimit": 2048000,
      "rowLimit": 10000
     },
     "inputWidgets": {},
     "nuid": "fef0da7f-88b6-4bec-94f1-d1e276173bd1",
     "showTitle": false,
     "tableResultSettingsMap": {},
     "title": ""
    }
   },
   "outputs": [],
   "source": [
    "# Eksporterer DataFrame både som Delta-tabell og CSV-fil til valgt katalog med navnet \"world_bank_indicators\".\n",
    "# Dette gjør datasettet klart for både videre analyse i Databricks og deling med andre verktøy.\n",
    "save_df_as_delta_and_csv(df=all_indicators_df, base_path='/Volumes/dev_truls/default/data_files/', name='world_bank_indicators', mode='overwrite')"
   ]
  }
 ],
 "metadata": {
  "application/vnd.databricks.v1+notebook": {
   "computePreferences": null,
   "dashboards": [],
   "environmentMetadata": {
    "base_environment": "",
    "environment_version": "2"
   },
   "inputWidgetPreferences": null,
   "language": "python",
   "notebookMetadata": {
    "pythonIndentUnit": 4
   },
   "notebookName": "World_Bank_Data_project",
   "widgets": {}
  },
  "language_info": {
   "name": "python"
  }
 },
 "nbformat": 4,
 "nbformat_minor": 0
}
